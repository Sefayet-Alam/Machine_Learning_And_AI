{
  "nbformat": 4,
  "nbformat_minor": 0,
  "metadata": {
    "colab": {
      "provenance": [],
      "authorship_tag": "ABX9TyO/4Sb6qg3X+WKsi4Pr9E0E",
      "include_colab_link": true
    },
    "kernelspec": {
      "name": "python3",
      "display_name": "Python 3"
    },
    "language_info": {
      "name": "python"
    }
  },
  "cells": [
    {
      "cell_type": "markdown",
      "metadata": {
        "id": "view-in-github",
        "colab_type": "text"
      },
      "source": [
        "<a href=\"https://colab.research.google.com/github/Sefayet-Alam/Machine_Learning_And_AI/blob/main/2003121_lab_01.ipynb\" target=\"_parent\"><img src=\"https://colab.research.google.com/assets/colab-badge.svg\" alt=\"Open In Colab\"/></a>"
      ]
    },
    {
      "cell_type": "code",
      "execution_count": 4,
      "metadata": {
        "id": "1onMK9sLbGZ5",
        "colab": {
          "base_uri": "https://localhost:8080/"
        },
        "outputId": "726b5f00-2a55-4bee-cfb3-dd8c98b029ff"
      },
      "outputs": [
        {
          "output_type": "stream",
          "name": "stdout",
          "text": [
            "Welcome to numerical sessional\n"
          ]
        }
      ],
      "source": [
        "print(\"Welcome to numerical sessional\")"
      ]
    },
    {
      "cell_type": "code",
      "source": [
        "name =\"Arafat\"\n",
        "salary=60000\n",
        "age=22\n",
        "\n",
        "print(\"Mr. \",name,\"is now at\",age,\".His salary is\",salary)"
      ],
      "metadata": {
        "colab": {
          "base_uri": "https://localhost:8080/"
        },
        "id": "72JyRUG2coFl",
        "outputId": "abcad627-c0c0-4ed9-f04a-9d5cc6cf533b"
      },
      "execution_count": 11,
      "outputs": [
        {
          "output_type": "stream",
          "name": "stdout",
          "text": [
            "Mr.  Arafat is now at 22 .His salary is 60000\n"
          ]
        }
      ]
    },
    {
      "cell_type": "code",
      "source": [
        "print(type(name),type(salary))"
      ],
      "metadata": {
        "colab": {
          "base_uri": "https://localhost:8080/"
        },
        "id": "7tmgUe-1fXlq",
        "outputId": "ccd81d8f-f346-4ece-86bc-1e26258a425d"
      },
      "execution_count": 10,
      "outputs": [
        {
          "output_type": "stream",
          "name": "stdout",
          "text": [
            "<class 'str'> <class 'float'>\n"
          ]
        }
      ]
    },
    {
      "cell_type": "code",
      "source": [
        "complex_num1=1+2j\n",
        "complex_num2=2-3j\n",
        "complex_ans=complex_num1*complex_num2\n",
        "print(complex_ans)\n",
        "print(abs(complex_ans))"
      ],
      "metadata": {
        "colab": {
          "base_uri": "https://localhost:8080/"
        },
        "id": "EpxUhZxygbTr",
        "outputId": "77571e28-0f83-4b5e-8e91-0fbfee3b21e3"
      },
      "execution_count": 13,
      "outputs": [
        {
          "output_type": "stream",
          "name": "stdout",
          "text": [
            "(8+1j)\n",
            "8.06225774829855\n"
          ]
        }
      ]
    },
    {
      "cell_type": "code",
      "source": [
        "#conditionals: if,elif,else\n",
        "#maintain indentation\n",
        "\n",
        "food_item=input('Enter a food item no: ')\n",
        "food_item=int(food_item)\n",
        "\n",
        "coupon=0\n",
        "\n",
        "if food_item==101:\n",
        "  print(\"You have a bread.\")\n",
        "\n",
        "elif food_item==102:\n",
        "  print(\"You take a cup of coffee\")\n",
        "  coupon+=50\n",
        "\n",
        "else:\n",
        "  print(\"you have nothing\")\n",
        "\n",
        "print(coupon)"
      ],
      "metadata": {
        "colab": {
          "base_uri": "https://localhost:8080/"
        },
        "id": "W9iacCZDgp91",
        "outputId": "4dc70be5-1ec7-4a62-991d-d4d6d32cdf59"
      },
      "execution_count": 21,
      "outputs": [
        {
          "output_type": "stream",
          "name": "stdout",
          "text": [
            "Enter a food item no: 102\n",
            "You take a cup of coffee\n",
            "50\n"
          ]
        }
      ]
    },
    {
      "cell_type": "code",
      "source": [
        "#list in python\n",
        "\n",
        "rolls = {2003121,2003135,2003150}\n",
        "name={\"Sefayet\",\"Mr. Y\",\"Mr. X\"}\n",
        "age={21,25,30}\n",
        "\n",
        "print(type(age))\n",
        "\n",
        "CSE_20={\"Sefayet\",2003121,\"Mr. X\",21,1+2j}\n",
        "\n",
        "print(CSE_20)\n"
      ],
      "metadata": {
        "colab": {
          "base_uri": "https://localhost:8080/"
        },
        "id": "lttf4HOcixVa",
        "outputId": "899211ff-d581-4cbf-b967-bae277a6bae5"
      },
      "execution_count": 30,
      "outputs": [
        {
          "output_type": "stream",
          "name": "stdout",
          "text": [
            "<class 'set'>\n",
            "{2003121, 'Sefayet', 'Mr. X', 21, (1+2j)}\n"
          ]
        }
      ]
    },
    {
      "cell_type": "code",
      "source": [
        "#loop.\n",
        "\n",
        "for roll in rolls:\n",
        "  print(roll,end=\" \\n\")\n"
      ],
      "metadata": {
        "colab": {
          "base_uri": "https://localhost:8080/"
        },
        "id": "TtM6CLGEjieG",
        "outputId": "606c6738-3d75-4ecf-fe68-9532888a39d1"
      },
      "execution_count": 33,
      "outputs": [
        {
          "output_type": "stream",
          "name": "stdout",
          "text": [
            "2003121 \n",
            "2003150 \n",
            "2003135 \n"
          ]
        }
      ]
    },
    {
      "cell_type": "code",
      "source": [
        "#python while loop\n",
        "\n",
        "def Factorial(n):\n",
        "  curr=1\n",
        "  for i in range(1,n+1):\n",
        "    curr*=i\n",
        "  return curr\n",
        "\n",
        "def Factorial2(n):\n",
        "  if(n==0): return 1\n",
        "  if(n==1): return 1\n",
        "  return n*Factorial2(n-1)\n",
        "\n",
        "while True:\n",
        "  number=int(input(\"Enter a number: \"))\n",
        "  if(number<0):\n",
        "    break\n",
        "  fact=Factorial2(number)\n",
        "  print(\"Factorial of number\",number,\" is: \",fact)\n"
      ],
      "metadata": {
        "colab": {
          "base_uri": "https://localhost:8080/"
        },
        "id": "6coXYlx0lOlE",
        "outputId": "3fc1fc91-2106-46f4-8521-3bd0d9e83e0d"
      },
      "execution_count": 45,
      "outputs": [
        {
          "name": "stdout",
          "output_type": "stream",
          "text": [
            "Enter a number: 100\n",
            "Factorial of number 100  is:  93326215443944152681699238856266700490715968264381621468592963895217599993229915608941463976156518286253697920827223758251185210916864000000000000000000000000\n",
            "Enter a number: -10\n"
          ]
        }
      ]
    },
    {
      "cell_type": "code",
      "source": [
        "#string catanation\n",
        "F_name=\"Sefayet\"\n",
        "L_name=\" Alam\"\n",
        "Full_name=F_name+L_name\n",
        "print(Full_name)"
      ],
      "metadata": {
        "colab": {
          "base_uri": "https://localhost:8080/"
        },
        "id": "QpHBevmmmO6j",
        "outputId": "15e7c4c4-8713-4e05-863d-b25e0f92fff9"
      },
      "execution_count": 41,
      "outputs": [
        {
          "output_type": "stream",
          "name": "stdout",
          "text": [
            "Sefayet Alam\n"
          ]
        }
      ]
    },
    {
      "cell_type": "code",
      "source": [],
      "metadata": {
        "id": "rXZHTYzwmree"
      },
      "execution_count": null,
      "outputs": []
    }
  ]
}